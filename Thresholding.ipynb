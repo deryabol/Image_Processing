{
  "nbformat": 4,
  "nbformat_minor": 0,
  "metadata": {
    "colab": {
      "provenance": [],
      "authorship_tag": "ABX9TyN4iXgGncK5buJnpxw6Ett6",
      "include_colab_link": true
    },
    "kernelspec": {
      "name": "python3",
      "display_name": "Python 3"
    },
    "language_info": {
      "name": "python"
    }
  },
  "cells": [
    {
      "cell_type": "markdown",
      "metadata": {
        "id": "view-in-github",
        "colab_type": "text"
      },
      "source": [
        "<a href=\"https://colab.research.google.com/github/deryabol/Image_Processing/blob/main/Thresholding.ipynb\" target=\"_parent\"><img src=\"https://colab.research.google.com/assets/colab-badge.svg\" alt=\"Open In Colab\"/></a>"
      ]
    },
    {
      "cell_type": "code",
      "execution_count": 1,
      "metadata": {
        "id": "TAJ9K_sdSWkR"
      },
      "outputs": [],
      "source": [
        "import cv2\n",
        "image= cv2.imread(\"p.png\",0)"
      ]
    },
    {
      "cell_type": "code",
      "source": [
        "#simple thresholding\n",
        "ret1,thresh1=cv2.threashold(image,127,255,cv2.THRESH_BINARY)"
      ],
      "metadata": {
        "id": "sVDosXsDTOSD"
      },
      "execution_count": null,
      "outputs": []
    },
    {
      "cell_type": "code",
      "source": [
        "#otsu thresholding\n",
        "ret2,thresh2 = cv2.threshold(image,0,255,cv2.THRESH_BINARY+cv2.THRESH_OTSU)"
      ],
      "metadata": {
        "id": "14h3Jvm4TTA1"
      },
      "execution_count": null,
      "outputs": []
    },
    {
      "cell_type": "code",
      "source": [
        "#otsu thresholding işlemi sonucunda 2 tane çıktı döndürüleceği için 2 tane değişken tanımlarız\n",
        "#otsu ile simple de cv2.threshold() fonksiyonu kullanılır.\n",
        "#Aralarındaki fark: otsu thresholding'te otomatik olarak yapılmaktadır, hiçbir değişken veya değer\n",
        "#seçme zorunluluğu yoktur. simple thresholding işleminde ise parametre olarak değerleri belirtmeliyiz."
      ],
      "metadata": {
        "id": "3OpJRPhNThoZ"
      },
      "execution_count": 3,
      "outputs": []
    },
    {
      "cell_type": "code",
      "source": [
        "#otsu thresholding işleminde threshold() fonksiyonu parametreleri:\n",
        "#1.parametre: kullanacağımız resimdir.\n",
        "#bir eşik değeri vermiyoruz. Minim ve max değer belirtiyoruz.BGR değerleri 0 ile 255 arasında\n",
        "#olduğu için eşik değerlerinin 0 ile 255 aralığında olduğunun belirten geniş bir değer belirliyouz ve kendisi\n",
        "#otomatik olarak 0 ın altına inmeden ve 255 in üstüne çıkmadan eşik değerini otomatik olarak\n",
        "#seçiyor.\n",
        "#4.parametre: cv2.THRESH_BINARY+cv2.THRESH_OTSU flag'i ile otsu thresholding yapılır."
      ],
      "metadata": {
        "id": "GrmjVmwtU5kP"
      },
      "execution_count": 4,
      "outputs": []
    },
    {
      "cell_type": "code",
      "source": [
        "cv2.imshow(\"orginal resim\",image)\n",
        "cv2.imshow(\"simple thresholding\",thresh1)\n",
        "cv2.imshow(\"otsu thresholding\",thresh2)\n",
        "\n",
        "cv2.waitKey(0)\n",
        "cv2.destroyAllWindows()"
      ],
      "metadata": {
        "id": "pu9u001uVfWa"
      },
      "execution_count": null,
      "outputs": []
    }
  ]
}