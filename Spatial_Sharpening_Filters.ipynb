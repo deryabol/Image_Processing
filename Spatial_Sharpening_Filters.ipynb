{
  "nbformat": 4,
  "nbformat_minor": 0,
  "metadata": {
    "colab": {
      "provenance": [],
      "authorship_tag": "ABX9TyMyPmfM6wtxgg5+w1/k4feO",
      "include_colab_link": true
    },
    "kernelspec": {
      "name": "python3",
      "display_name": "Python 3"
    },
    "language_info": {
      "name": "python"
    }
  },
  "cells": [
    {
      "cell_type": "markdown",
      "metadata": {
        "id": "view-in-github",
        "colab_type": "text"
      },
      "source": [
        "<a href=\"https://colab.research.google.com/github/deryabol/Image_Processing/blob/main/Spatial_Sharpening_Filters.ipynb\" target=\"_parent\"><img src=\"https://colab.research.google.com/assets/colab-badge.svg\" alt=\"Open In Colab\"/></a>"
      ]
    },
    {
      "cell_type": "code",
      "execution_count": 1,
      "metadata": {
        "id": "aXv37yiUeBQc"
      },
      "outputs": [],
      "source": [
        "import sys\n",
        "import cv2 as cv"
      ]
    },
    {
      "cell_type": "code",
      "source": [
        "def main(argv):\n",
        "  ddepth =cv.Cv_165\n",
        "  kernel_size =3\n",
        "  window_name = \"Laplace Demo\"\n",
        "  imageName = argv[0] if len(argv) > 0 else 'lena.jpg'\n",
        "  src =cv.imread(cv.samples.findFile(imageName), cv.IMREAD_COLOR)\n",
        "  # Check if image is loaded fine\n",
        "  if src is Name:\n",
        "    print ('Error opening image')\n",
        "    print ('Program arguments: [image_name -- default lena.jpg]')\n",
        "    return -1\n",
        "  # [load]\n",
        "  #[reduce_noise]\n",
        "  # Remove noise by blurring with a Gausian filtr\n",
        "   src = cv.GaussianBlur(srsc, (3,3), 0)\n",
        "   #[reduce_noise]\n",
        "\n",
        "   #[convert_to_gray]\n",
        "   #Convert the image tp grayscale\n",
        "   src_gray = cv.cvtColor(src, cv.COLOR_BGR2GRAY)\n",
        "   #[convert_to_gray]\n",
        "\n",
        "   #Create Window\n",
        "   cv.namedWindow(indow_name, cv.WINDOW_AUTOSIZE)\n",
        "\n",
        "   #[laplacian]\n",
        "   #Apply Laplace function\n",
        "   dst = cv.Laplacian(src_gray, ddepth=, ksize=kernel_size)\n",
        "   # [laplacian]\n",
        "   #[convert]\n",
        "   #converting back to uint8\n",
        "   abs_dst = cv.convertScaleAbs(dst)\n",
        "   #[convert]\n",
        "\n",
        "   #[display]\n",
        "   cv.imshow(window_name, abs_dst)\n",
        "   cv.waitkey(0)\n",
        "   #[display]\n",
        "\n",
        "   return 0\n",
        "\n",
        "if __name__ == \"_main_\":\n",
        "  main(sys.argv[1:])\n",
        ""
      ],
      "metadata": {
        "id": "s4x730mreJQg"
      },
      "execution_count": null,
      "outputs": []
    }
  ]
}