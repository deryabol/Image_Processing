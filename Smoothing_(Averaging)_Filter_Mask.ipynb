{
  "nbformat": 4,
  "nbformat_minor": 0,
  "metadata": {
    "colab": {
      "provenance": [],
      "authorship_tag": "ABX9TyNgqf2Aosju+eAMkHUcIrau",
      "include_colab_link": true
    },
    "kernelspec": {
      "name": "python3",
      "display_name": "Python 3"
    },
    "language_info": {
      "name": "python"
    }
  },
  "cells": [
    {
      "cell_type": "markdown",
      "metadata": {
        "id": "view-in-github",
        "colab_type": "text"
      },
      "source": [
        "<a href=\"https://colab.research.google.com/github/deryabol/Image_Processing/blob/main/Smoothing_(Averaging)_Filter_Mask.ipynb\" target=\"_parent\"><img src=\"https://colab.research.google.com/assets/colab-badge.svg\" alt=\"Open In Colab\"/></a>"
      ]
    },
    {
      "cell_type": "code",
      "execution_count": 1,
      "metadata": {
        "id": "TuITXUcZ8Ti-"
      },
      "outputs": [],
      "source": [
        "import cv2\n",
        "import numpy as np"
      ]
    },
    {
      "cell_type": "code",
      "source": [
        "#image path\n",
        "path=r'salad.jpg'"
      ],
      "metadata": {
        "id": "g3iaWvB48YmE"
      },
      "execution_count": 2,
      "outputs": []
    },
    {
      "cell_type": "code",
      "source": [
        "#using imread()\n",
        "img = cv2.imread(path)"
      ],
      "metadata": {
        "id": "hyNDyv578rSH"
      },
      "execution_count": 3,
      "outputs": []
    },
    {
      "cell_type": "code",
      "source": [
        "from cv2.gapi import normalize\n",
        "im1 = cv2.blur(img,(5,5))\n",
        "im2 = cv2.boxFilter(img, -1,(2,2), normalize=True)"
      ],
      "metadata": {
        "id": "tD8yR4Rz8yXN"
      },
      "execution_count": 4,
      "outputs": []
    },
    {
      "cell_type": "code",
      "source": [
        "cv2.imshow('image', np.hstack((im1,im2)))\n",
        "cv2.waitKey(0);\n",
        "cv2.destroyAllWindows();\n",
        "cv2.waitKey(1)"
      ],
      "metadata": {
        "id": "nzFg0XQ-9kHH"
      },
      "execution_count": null,
      "outputs": []
    }
  ]
}