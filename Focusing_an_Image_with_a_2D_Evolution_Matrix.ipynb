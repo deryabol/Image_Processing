{
  "nbformat": 4,
  "nbformat_minor": 0,
  "metadata": {
    "colab": {
      "provenance": [],
      "authorship_tag": "ABX9TyNuwqV8lXFiInrWDtjTNN8j",
      "include_colab_link": true
    },
    "kernelspec": {
      "name": "python3",
      "display_name": "Python 3"
    },
    "language_info": {
      "name": "python"
    }
  },
  "cells": [
    {
      "cell_type": "markdown",
      "metadata": {
        "id": "view-in-github",
        "colab_type": "text"
      },
      "source": [
        "<a href=\"https://colab.research.google.com/github/deryabol/Image_Processing/blob/main/Focusing_an_Image_with_a_2D_Evolution_Matrix.ipynb\" target=\"_parent\"><img src=\"https://colab.research.google.com/assets/colab-badge.svg\" alt=\"Open In Colab\"/></a>"
      ]
    },
    {
      "cell_type": "code",
      "execution_count": 1,
      "metadata": {
        "id": "u6zEIWsf5dAG"
      },
      "outputs": [],
      "source": [
        "#importing the modules needed"
      ]
    },
    {
      "cell_type": "code",
      "source": [
        "import cv2\n",
        "import numpy as np"
      ],
      "metadata": {
        "id": "KNaz4mrm6HH3"
      },
      "execution_count": 2,
      "outputs": []
    },
    {
      "cell_type": "code",
      "source": [
        "#Reading the image\n",
        "image=cv2.imread('image.png')"
      ],
      "metadata": {
        "id": "2-DhFJHN6LtX"
      },
      "execution_count": 3,
      "outputs": []
    },
    {
      "cell_type": "code",
      "source": [
        "#Creating the kernel(2d convolution matrix)\n",
        "kernel1 = np.ones((5, 5), np.float32)/30"
      ],
      "metadata": {
        "id": "yR3lZTta6SnC"
      },
      "execution_count": 4,
      "outputs": []
    },
    {
      "cell_type": "code",
      "source": [
        "#Applying the filter2D() function\n",
        "img = cv2.filter2D(src=image, ddepth=-1, kernel=kernel1)"
      ],
      "metadata": {
        "id": "H3prrGNv69oF"
      },
      "execution_count": null,
      "outputs": []
    },
    {
      "cell_type": "code",
      "source": [
        "#Shoeing the original and output image\n",
        "cv2.imshow('Original', image)\n",
        "cv2.imshow('Kernel Blur', img)"
      ],
      "metadata": {
        "id": "eH_shl3q7s_N"
      },
      "execution_count": null,
      "outputs": []
    },
    {
      "cell_type": "code",
      "source": [
        "cv2.waitKey()\n",
        "cv2.destroyAllWindows()"
      ],
      "metadata": {
        "id": "r09Kb1zU7zPT"
      },
      "execution_count": 7,
      "outputs": []
    }
  ]
}