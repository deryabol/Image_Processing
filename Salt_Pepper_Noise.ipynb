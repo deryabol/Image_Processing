{
  "nbformat": 4,
  "nbformat_minor": 0,
  "metadata": {
    "colab": {
      "provenance": [],
      "authorship_tag": "ABX9TyMZ+kqWqQL1KmcJRoKQSNCq",
      "include_colab_link": true
    },
    "kernelspec": {
      "name": "python3",
      "display_name": "Python 3"
    },
    "language_info": {
      "name": "python"
    }
  },
  "cells": [
    {
      "cell_type": "markdown",
      "metadata": {
        "id": "view-in-github",
        "colab_type": "text"
      },
      "source": [
        "<a href=\"https://colab.research.google.com/github/deryabol/Image_Processing/blob/main/Salt_Pepper_Noise.ipynb\" target=\"_parent\"><img src=\"https://colab.research.google.com/assets/colab-badge.svg\" alt=\"Open In Colab\"/></a>"
      ]
    },
    {
      "cell_type": "code",
      "execution_count": 11,
      "metadata": {
        "id": "TevSVRftjSHT"
      },
      "outputs": [],
      "source": [
        "import cv2\n",
        "import numpy as np"
      ]
    },
    {
      "cell_type": "code",
      "source": [
        "def saltPepperNoise(image):\n",
        "  row,col,ch =image.shape\n",
        "  s_vs_p =0.5\n",
        "  amount = 0.04\n",
        "  noisy =np.copy(image)"
      ],
      "metadata": {
        "id": "swrB437TkLG-"
      },
      "execution_count": 12,
      "outputs": []
    },
    {
      "cell_type": "code",
      "source": [
        "num_salt = int(np.ceil(amount*image.size*s_vs_p))\n",
        "corrds = [np.random.randint(0,i-1,num_salt) for i in image.shape]\n",
        "noisy[corrds] = 1"
      ],
      "metadata": {
        "id": "42a5DOKTkTaX"
      },
      "execution_count": null,
      "outputs": []
    },
    {
      "cell_type": "code",
      "source": [
        "num_pep = int(np.ceil(amount*image.size*s_vs_p))\n",
        "corrds = [np.random.randint(0,i-1,num_pep) for i in image.shape]\n",
        "noisy[corrds] = 0\n",
        "\n",
        "return noisy"
      ],
      "metadata": {
        "id": "ZJNRQbVsll0l"
      },
      "execution_count": null,
      "outputs": []
    },
    {
      "cell_type": "code",
      "source": [
        "img = cv2.imread(\"input.jpt\")\n",
        "img = img/255\n",
        "noise_img=saltPepperNoise(img)\n",
        "noise_img=saltPepperNoise(img)\n",
        "cv2.imshow(\"Gaussian Noise\",noise_img)\n",
        "cv2.waitKey(0)"
      ],
      "metadata": {
        "id": "lPYD80_JmEim"
      },
      "execution_count": null,
      "outputs": []
    },
    {
      "cell_type": "markdown",
      "source": [],
      "metadata": {
        "id": "IesYA5DPlj03"
      }
    }
  ]
}