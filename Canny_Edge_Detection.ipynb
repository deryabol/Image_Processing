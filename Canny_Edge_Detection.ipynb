{
  "nbformat": 4,
  "nbformat_minor": 0,
  "metadata": {
    "colab": {
      "provenance": [],
      "authorship_tag": "ABX9TyMeWcLJ1uNutShFyK6Kg0nG",
      "include_colab_link": true
    },
    "kernelspec": {
      "name": "python3",
      "display_name": "Python 3"
    },
    "language_info": {
      "name": "python"
    }
  },
  "cells": [
    {
      "cell_type": "markdown",
      "metadata": {
        "id": "view-in-github",
        "colab_type": "text"
      },
      "source": [
        "<a href=\"https://colab.research.google.com/github/deryabol/Image_Processing/blob/main/Canny_Edge_Detection.ipynb\" target=\"_parent\"><img src=\"https://colab.research.google.com/assets/colab-badge.svg\" alt=\"Open In Colab\"/></a>"
      ]
    },
    {
      "cell_type": "code",
      "execution_count": 1,
      "metadata": {
        "id": "5WMsiKZOV5cg"
      },
      "outputs": [],
      "source": [
        "import cv2"
      ]
    },
    {
      "cell_type": "code",
      "source": [
        "import numpy as np"
      ],
      "metadata": {
        "id": "OAiZshiqWBM6"
      },
      "execution_count": 2,
      "outputs": []
    },
    {
      "cell_type": "code",
      "source": [
        "image = cv2.imread(\"groot.jpg\")\n",
        "\n",
        "#Resmi griye dönüştürelim:\n",
        "gray = cv2.cvtColor(image,cv2.COLOR_BGR2GRAY)"
      ],
      "metadata": {
        "id": "lwVyW0JPWCdi"
      },
      "execution_count": 3,
      "outputs": []
    },
    {
      "cell_type": "code",
      "source": [
        "#1.parametre: Hangi resmi griye çevireceğimizin bilgisidir.\n",
        "#2.parametre: cv2.COLOR_BGR2GRAY flag'i ile BGR dan GRAY'e değiştirme sağlanmıştır."
      ],
      "metadata": {
        "id": "x7hcIsu1Wk2B"
      },
      "execution_count": 4,
      "outputs": []
    },
    {
      "cell_type": "code",
      "source": [
        "#Görüntüyü blurlayalım:\n",
        "blur = cv2.GaussianBlur(gray,(5,5),0)"
      ],
      "metadata": {
        "id": "GMTsDKmeXLyk"
      },
      "execution_count": 5,
      "outputs": []
    },
    {
      "cell_type": "code",
      "source": [
        "#Resim gri resme dönüştürülmüştür ve sonrasında blurlama işlemi yapılmıştır. Şimdi bunun üstüne canny\n",
        "#algoritmasının uygulayalım:\n",
        "canny = cv2.Canny(blur,75,255)"
      ],
      "metadata": {
        "id": "Xq6ZOeFeXXfa"
      },
      "execution_count": 6,
      "outputs": []
    },
    {
      "cell_type": "code",
      "source": [
        "#2.parametre ile alt eşik değeri 50 olarak, 3. parametre ile üst eşik değeri 150 olarak belirlenmiştir."
      ],
      "metadata": {
        "id": "apto9nxUXqs7"
      },
      "execution_count": 7,
      "outputs": []
    },
    {
      "cell_type": "code",
      "source": [
        "cv2.imshow(\"blurred image\",blur)\n",
        "cv2.imshow(\"canny image\",canny)"
      ],
      "metadata": {
        "id": "R48e8krfX8gz"
      },
      "execution_count": null,
      "outputs": []
    },
    {
      "cell_type": "code",
      "source": [
        "cv2.waitKey()\n",
        "cv2.destroyAllWindows()"
      ],
      "metadata": {
        "id": "4ebmQdrPYDcr"
      },
      "execution_count": null,
      "outputs": []
    }
  ]
}