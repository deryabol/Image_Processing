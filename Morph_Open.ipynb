{
  "nbformat": 4,
  "nbformat_minor": 0,
  "metadata": {
    "colab": {
      "provenance": [],
      "authorship_tag": "ABX9TyNnYAvp7t8RMCadNQgExgH6",
      "include_colab_link": true
    },
    "kernelspec": {
      "name": "python3",
      "display_name": "Python 3"
    },
    "language_info": {
      "name": "python"
    }
  },
  "cells": [
    {
      "cell_type": "markdown",
      "metadata": {
        "id": "view-in-github",
        "colab_type": "text"
      },
      "source": [
        "<a href=\"https://colab.research.google.com/github/deryabol/Image_Processing/blob/main/Morph_Open.ipynb\" target=\"_parent\"><img src=\"https://colab.research.google.com/assets/colab-badge.svg\" alt=\"Open In Colab\"/></a>"
      ]
    },
    {
      "cell_type": "code",
      "execution_count": null,
      "metadata": {
        "id": "APo8kAmeN9Ca"
      },
      "outputs": [],
      "source": [
        "img = cv2.imread(\"isim.png\", 0)\n",
        "cv2.imshow(\"Original\", img)\n",
        "cv2.waitKey(0)\n",
        "kernel = np.ones((5,5),dtype=np.uint8)\n",
        "whiteNoise = np.random.randint(0,2,size=img.shape[:2])\n",
        "whiteNoise = whiteNoisse*255\n",
        "noise_img = whiteNoise + img\n",
        "opening =cv2.morphologyEx(noise_img.astype(np.float32),cv2.MORPH_OPEN,kernel )\n",
        "cv2.imshow(\"Opening\", opening)\n",
        "cv2.waitKey(0)"
      ]
    }
  ]
}