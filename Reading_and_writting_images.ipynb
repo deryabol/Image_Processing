{
  "nbformat": 4,
  "nbformat_minor": 0,
  "metadata": {
    "colab": {
      "provenance": []
    },
    "kernelspec": {
      "name": "python3",
      "display_name": "Python 3"
    },
    "language_info": {
      "name": "python"
    }
  },
  "cells": [
    {
      "cell_type": "code",
      "execution_count": 9,
      "metadata": {
        "id": "sqRF4PpSkASy"
      },
      "outputs": [],
      "source": [
        "import cv2\n",
        "import numpy as np"
      ]
    },
    {
      "cell_type": "code",
      "source": [
        "resim1 = cv2.imread(\"brain.jpg\")"
      ],
      "metadata": {
        "id": "bfc1TfoxmZhZ"
      },
      "execution_count": 7,
      "outputs": []
    },
    {
      "cell_type": "code",
      "source": [
        "cv2.imshow(\"Brain\",resim1)"
      ],
      "metadata": {
        "id": "VVMxprBJnj_4"
      },
      "execution_count": null,
      "outputs": []
    },
    {
      "cell_type": "code",
      "source": [
        "#Resmin boyutunu öğrenmek için:\n",
        "print(resim1.size)"
      ],
      "metadata": {
        "colab": {
          "base_uri": "https://localhost:8080/"
        },
        "id": "-bl8O2vin-Fc",
        "outputId": "e2782399-4daf-413c-aa92-6c880c14d070"
      },
      "execution_count": 10,
      "outputs": [
        {
          "output_type": "stream",
          "name": "stdout",
          "text": [
            "2668050\n"
          ]
        }
      ]
    },
    {
      "cell_type": "code",
      "source": [
        "#Resmin veri tipini öğrenmek için:\n",
        "print(resim1.dtype)"
      ],
      "metadata": {
        "colab": {
          "base_uri": "https://localhost:8080/"
        },
        "id": "kTsCu_hLoEWV",
        "outputId": "311fc013-a0ef-4b81-9186-ef95165a454d"
      },
      "execution_count": 11,
      "outputs": [
        {
          "output_type": "stream",
          "name": "stdout",
          "text": [
            "uint8\n"
          ]
        }
      ]
    },
    {
      "cell_type": "code",
      "source": [
        "#Resmin genişliğini, yüksekliğni ve kaç kanaldan oluştuğunu öğrenmek için:\n",
        "print(resim1.shape)"
      ],
      "metadata": {
        "colab": {
          "base_uri": "https://localhost:8080/"
        },
        "id": "DmWhW_a3oJuA",
        "outputId": "197d9faa-9cbb-4511-e921-10531fbd26a5"
      },
      "execution_count": 13,
      "outputs": [
        {
          "output_type": "stream",
          "name": "stdout",
          "text": [
            "(770, 1155, 3)\n"
          ]
        }
      ]
    },
    {
      "cell_type": "code",
      "source": [
        "cv2.waitKey(0)\n",
        "cv2.destroyAllWindows()"
      ],
      "metadata": {
        "id": "KQtfLazrob6u"
      },
      "execution_count": 14,
      "outputs": []
    },
    {
      "cell_type": "code",
      "source": [],
      "metadata": {
        "id": "tbpvzDv0ooKK"
      },
      "execution_count": null,
      "outputs": []
    }
  ]
}