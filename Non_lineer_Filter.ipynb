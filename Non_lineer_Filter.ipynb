{
  "nbformat": 4,
  "nbformat_minor": 0,
  "metadata": {
    "colab": {
      "provenance": [],
      "authorship_tag": "ABX9TyM0G+2j7U+FrDyxZDnbLCt6",
      "include_colab_link": true
    },
    "kernelspec": {
      "name": "python3",
      "display_name": "Python 3"
    },
    "language_info": {
      "name": "python"
    }
  },
  "cells": [
    {
      "cell_type": "markdown",
      "metadata": {
        "id": "view-in-github",
        "colab_type": "text"
      },
      "source": [
        "<a href=\"https://colab.research.google.com/github/deryabol/Image_Processing/blob/main/Non_lineer_Filter.ipynb\" target=\"_parent\"><img src=\"https://colab.research.google.com/assets/colab-badge.svg\" alt=\"Open In Colab\"/></a>"
      ]
    },
    {
      "cell_type": "code",
      "execution_count": 1,
      "metadata": {
        "id": "g0rCHjhLcq-L"
      },
      "outputs": [],
      "source": [
        "import cv2\n",
        "import numpy as np"
      ]
    },
    {
      "cell_type": "code",
      "source": [
        "img = cv2.imread('brain.jpg')\n",
        "median = cv2.medianBlur(img, 5)\n",
        "compare = np.concatenate((img, median), axis=1) #side by side comparison"
      ],
      "metadata": {
        "id": "tuaKccSLdH4b"
      },
      "execution_count": null,
      "outputs": []
    },
    {
      "cell_type": "code",
      "source": [
        "cv2.imshow('img', compare)\n",
        "cv2.waitKey(0)\n",
        "cv2.destroyAllWindows"
      ],
      "metadata": {
        "id": "wN3Z497hddhY"
      },
      "execution_count": null,
      "outputs": []
    },
    {
      "cell_type": "code",
      "source": [],
      "metadata": {
        "id": "qZB5QQludjfp"
      },
      "execution_count": null,
      "outputs": []
    }
  ]
}