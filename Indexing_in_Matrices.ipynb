{
  "nbformat": 4,
  "nbformat_minor": 0,
  "metadata": {
    "colab": {
      "provenance": [],
      "authorship_tag": "ABX9TyPoURyosz+XSlm5Yv7q79JC",
      "include_colab_link": true
    },
    "kernelspec": {
      "name": "python3",
      "display_name": "Python 3"
    },
    "language_info": {
      "name": "python"
    }
  },
  "cells": [
    {
      "cell_type": "markdown",
      "metadata": {
        "id": "view-in-github",
        "colab_type": "text"
      },
      "source": [
        "<a href=\"https://colab.research.google.com/github/deryabol/Image_Processing/blob/main/Indexing_in_Matrices.ipynb\" target=\"_parent\"><img src=\"https://colab.research.google.com/assets/colab-badge.svg\" alt=\"Open In Colab\"/></a>"
      ]
    },
    {
      "cell_type": "code",
      "execution_count": 1,
      "metadata": {
        "id": "gFXbXsY7vOMH"
      },
      "outputs": [],
      "source": [
        "A = [[1, 4, 5], # iç içe liste\n",
        "     [-5, 8, 9],\n",
        "     [6, 8, 10],\n",
        "     [0, 2, 38]]\n"
      ]
    },
    {
      "cell_type": "code",
      "source": [
        "print(\"A=\", A)\n",
        "print(\"A[1] =\", A[1]) #2. satır\n",
        "print(\"A[1][2] =\", A[1][2])  #2. satırın 3. elemanı\n",
        "print(\"A[0][-1] =\", A[0][-1])  #ilk satırın sonuncu elemanı\n"
      ],
      "metadata": {
        "colab": {
          "base_uri": "https://localhost:8080/"
        },
        "id": "BICQudOJwiYo",
        "outputId": "30622034-9f4a-48af-be81-661e8b9fdb50"
      },
      "execution_count": 3,
      "outputs": [
        {
          "output_type": "stream",
          "name": "stdout",
          "text": [
            "A= [[1, 4, 5], [-5, 8, 9], [6, 8, 10], [0, 2, 38]]\n",
            "A[1] = [-5, 8, 9]\n",
            "A[1][2] = 9\n",
            "A[0][-1] = 5\n"
          ]
        }
      ]
    },
    {
      "cell_type": "code",
      "source": [],
      "metadata": {
        "id": "6Qlujjpqxl-_"
      },
      "execution_count": null,
      "outputs": []
    }
  ]
}